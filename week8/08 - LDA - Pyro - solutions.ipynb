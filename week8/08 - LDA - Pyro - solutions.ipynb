{
 "cells": [
  {
   "cell_type": "markdown",
   "metadata": {
    "colab_type": "text",
    "id": "wnTueG1WtMPn"
   },
   "source": [
    "# Week 08 - Topic Modeling - Latent Dirichlet Allocation"
   ]
  },
  {
   "cell_type": "markdown",
   "metadata": {
    "colab_type": "text",
    "id": "IOgLVoQptMPq"
   },
   "source": [
    "------"
   ]
  },
  {
   "cell_type": "code",
   "execution_count": 32,
   "metadata": {
    "colab": {},
    "colab_type": "code",
    "id": "rm5kV7jqkq6P",
    "outputId": "b0107b9f-ce74-4680-abc8-ed2667cbaf69"
   },
   "outputs": [
    {
     "name": "stderr",
     "output_type": "stream",
     "text": [
      "/opt/homebrew/Caskroom/miniconda/base/envs/mbml/lib/python3.9/site-packages/IPython/core/display.py:419: UserWarning: Consider using IPython.display.IFrame instead\n",
      "  warnings.warn(\"Consider using IPython.display.IFrame instead\")\n"
     ]
    },
    {
     "data": {
      "text/html": [
       "<iframe width=\"560\" height=\"315\" src=\"https://www.youtube.com/embed/DTl5Xetaprw\" frameborder=\"0\" allow=\"accelerometer; autoplay; encrypted-media; gyroscope; picture-in-picture\" allowfullscreen></iframe>"
      ],
      "text/plain": [
       "<IPython.core.display.HTML object>"
      ]
     },
     "execution_count": 32,
     "metadata": {},
     "output_type": "execute_result"
    }
   ],
   "source": [
    "from IPython.display import HTML\n",
    "HTML('<iframe width=\"560\" height=\"315\" src=\"https://www.youtube.com/embed/DTl5Xetaprw\" frameborder=\"0\" allow=\"accelerometer; autoplay; encrypted-media; gyroscope; picture-in-picture\" allowfullscreen></iframe>')"
   ]
  },
  {
   "cell_type": "markdown",
   "metadata": {
    "colab_type": "text",
    "id": "bNs5OB4ctMPr"
   },
   "source": [
    "Welcome back! Today, we'll work on a very useful text analysis technique called Topic Modeling. Particularly, we will use its most popular and powerful algorithm: Latent Dirichlet Allocation, or LDA"
   ]
  },
  {
   "cell_type": "markdown",
   "metadata": {
    "colab_type": "text",
    "id": "OoXZiqOjtMPs"
   },
   "source": [
    "Before you implement your own LDA on Pyro, it is important that you understand all concepts well. In this notebook, we'll start by playing a little bit with the Dirichlet distribution. After this, we'll ask you to do some ancestral sampling on the LDA generative story.\n",
    "\n",
    "Only after that, you'll do your own LDA in Pyro. \n"
   ]
  },
  {
   "cell_type": "markdown",
   "metadata": {
    "colab_type": "text",
    "id": "WAMmfJ51tMPt"
   },
   "source": [
    "We start by the usual imports"
   ]
  },
  {
   "cell_type": "code",
   "execution_count": 33,
   "metadata": {
    "colab": {
     "base_uri": "https://localhost:8080/",
     "height": 224
    },
    "colab_type": "code",
    "id": "EfN_fPI5AQ3n",
    "outputId": "b6e5a564-7ea8-4ca4-e774-8d7552ce1512"
   },
   "outputs": [
    {
     "name": "stdout",
     "output_type": "stream",
     "text": [
      "Requirement already satisfied: pyro-ppl in /opt/homebrew/Caskroom/miniconda/base/envs/mbml/lib/python3.9/site-packages (1.8.0)\n",
      "Requirement already satisfied: opt-einsum>=2.3.2 in /opt/homebrew/Caskroom/miniconda/base/envs/mbml/lib/python3.9/site-packages (from pyro-ppl) (3.3.0)\n",
      "Requirement already satisfied: tqdm>=4.36 in /opt/homebrew/Caskroom/miniconda/base/envs/mbml/lib/python3.9/site-packages (from pyro-ppl) (4.62.3)\n",
      "Requirement already satisfied: numpy>=1.7 in /opt/homebrew/Caskroom/miniconda/base/envs/mbml/lib/python3.9/site-packages (from pyro-ppl) (1.22.3)\n",
      "Requirement already satisfied: pyro-api>=0.1.1 in /opt/homebrew/Caskroom/miniconda/base/envs/mbml/lib/python3.9/site-packages (from pyro-ppl) (0.1.2)\n",
      "Requirement already satisfied: torch>=1.9.0 in /opt/homebrew/Caskroom/miniconda/base/envs/mbml/lib/python3.9/site-packages (from pyro-ppl) (1.11.0)\n",
      "Requirement already satisfied: typing-extensions in /opt/homebrew/Caskroom/miniconda/base/envs/mbml/lib/python3.9/site-packages (from torch>=1.9.0->pyro-ppl) (4.1.1)\n"
     ]
    }
   ],
   "source": [
    "!pip install pyro-ppl"
   ]
  },
  {
   "cell_type": "code",
   "execution_count": 34,
   "metadata": {
    "colab": {},
    "colab_type": "code",
    "id": "JOPML4S8jiow"
   },
   "outputs": [],
   "source": [
    "import torch\n",
    "from torch import nn\n",
    "from torch.distributions import constraints\n",
    "import functools\n",
    "\n",
    "import pyro\n",
    "import pyro.distributions as dist\n",
    "from pyro.infer import SVI, JitTraceEnum_ELBO, TraceEnum_ELBO\n",
    "from pyro.contrib.autoguide import AutoDiagonalNormal, AutoMultivariateNormal, AutoGuideList, AutoDelta\n",
    "from pyro.optim import ClippedAdam"
   ]
  },
  {
   "cell_type": "code",
   "execution_count": 35,
   "metadata": {
    "colab": {},
    "colab_type": "code",
    "id": "oNHu_u01tMPu"
   },
   "outputs": [],
   "source": [
    "import pandas as pd\n",
    "import numpy as np\n",
    "import matplotlib.pyplot as plt\n",
    "%matplotlib inline"
   ]
  },
  {
   "cell_type": "markdown",
   "metadata": {
    "colab_type": "text",
    "id": "mWQc-vc3tMPy"
   },
   "source": [
    "## Part 1 - Understanding the dirichlet distribution"
   ]
  },
  {
   "cell_type": "markdown",
   "metadata": {
    "colab_type": "text",
    "id": "vOgXLE9DtMPz"
   },
   "source": [
    "The Dirichlet distribution is available as numpy.random.dirichlet(alpha, size=None)\n",
    "\n",
    "...so, try it! For example, obtain draws from this distribution using different values of alpha."
   ]
  },
  {
   "cell_type": "code",
   "execution_count": 36,
   "metadata": {
    "colab": {
     "base_uri": "https://localhost:8080/",
     "height": 68
    },
    "colab_type": "code",
    "id": "C6i56CjAtMPz",
    "outputId": "e7ef13bc-e352-44bd-dfe7-9f36346cb21b"
   },
   "outputs": [
    {
     "name": "stdout",
     "output_type": "stream",
     "text": [
      "[2.80677993e-03 9.97187096e-01 6.12440737e-06]\n",
      "[3.48573378e-13 1.38810613e-07 9.99999861e-01]\n",
      "[0.77302473 0.2183369  0.00863837]\n"
     ]
    }
   ],
   "source": [
    "print(np.random.dirichlet([.2,.2, .2]))\n",
    "print(np.random.dirichlet([.1,.1, .9]))\n",
    "print(np.random.dirichlet([1,1, 1]))"
   ]
  },
  {
   "cell_type": "markdown",
   "metadata": {
    "colab_type": "text",
    "id": "7Bx-u8OZtMP3"
   },
   "source": [
    "Check that the sum is always 1, for all vectors..."
   ]
  },
  {
   "cell_type": "code",
   "execution_count": 37,
   "metadata": {
    "colab": {
     "base_uri": "https://localhost:8080/",
     "height": 34
    },
    "colab_type": "code",
    "id": "JAm0vYGmtMP4",
    "outputId": "7279acf7-4555-44e1-8ea1-6f48a62b75c2"
   },
   "outputs": [
    {
     "data": {
      "text/plain": [
       "0.9999999999999999"
      ]
     },
     "execution_count": 37,
     "metadata": {},
     "output_type": "execute_result"
    }
   ],
   "source": [
    "np.sum(np.random.dirichlet([.2,.2, .2]))"
   ]
  },
  {
   "cell_type": "markdown",
   "metadata": {
    "colab_type": "text",
    "id": "3NBgYmnTtMP7"
   },
   "source": [
    "Whenever you can, try to visualize it. Remember what we did in the slides. Try to do the same thing!"
   ]
  },
  {
   "cell_type": "markdown",
   "metadata": {
    "colab_type": "text",
    "id": "y_bCddBStMP8"
   },
   "source": [
    "**feel free to use the function below, to plot points from a dirichlet distribution, onto a 2D simplex**"
   ]
  },
  {
   "cell_type": "code",
   "execution_count": 38,
   "metadata": {
    "colab": {},
    "colab_type": "code",
    "id": "OyTZBnJZtMP9"
   },
   "outputs": [],
   "source": [
    "'''Function to plot points in a simplex'''\n",
    "\n",
    "# Based on post from Thomas Boggs (http://blog.bogatron.net/blog/2014/02/02/visualizing-dirichlet-distributions/)\n",
    "\n",
    "import matplotlib.tri as tri\n",
    "\n",
    "_corners = np.array([[0, 0], [1, 0], [0.5, 0.75**0.5]])\n",
    "_triangle = tri.Triangulation(_corners[:, 0], _corners[:, 1])\n",
    "\n",
    "def plot_points(X):\n",
    "    '''Plots a set of points in the simplex.\n",
    "\n",
    "    Arguments:\n",
    "\n",
    "        `X` (ndarray): A 2xN array (if in Cartesian coords) or 3xN array\n",
    "                       (if in barycentric coords) of points to plot.\n",
    "    '''\n",
    "    \n",
    "    X = X.dot(_corners)  #This is what converts the original points onto the simplex (it projects on it, through dot product)\n",
    "    plt.plot(X[:, 0], X[:, 1], 'k.', ms=1)\n",
    "    plt.axis('equal')\n",
    "    plt.xlim(0, 1)\n",
    "    plt.ylim(0, 0.75**0.5)\n",
    "    plt.axis('off')\n",
    "    plt.triplot(_triangle, linewidth=1)"
   ]
  },
  {
   "cell_type": "markdown",
   "metadata": {
    "colab_type": "text",
    "id": "cRWdwC18tMQA"
   },
   "source": [
    "Generate 10000 points from the dirichlet distribution and plot them using the function above"
   ]
  },
  {
   "cell_type": "code",
   "execution_count": 39,
   "metadata": {
    "colab": {},
    "colab_type": "code",
    "id": "mqrhlkQ2tMQB"
   },
   "outputs": [],
   "source": [
    "points = np.random.dirichlet([.09, .09, .09], size=1000)"
   ]
  },
  {
   "cell_type": "code",
   "execution_count": 40,
   "metadata": {
    "colab": {
     "base_uri": "https://localhost:8080/",
     "height": 248
    },
    "colab_type": "code",
    "id": "GZLY_VrTtMQD",
    "outputId": "a41fc666-ee33-4be0-8942-ae3bc2ea3a18"
   },
   "outputs": [
    {
     "data": {
      "image/png": "[encoded data removed]",
      "text/plain": [
       "<Figure size 432x288 with 1 Axes>"
      ]
     },
     "metadata": {
      "needs_background": "light"
     },
     "output_type": "display_data"
    }
   ],
   "source": [
    "plot_points(points)"
   ]
  },
  {
   "cell_type": "markdown",
   "metadata": {
    "colab_type": "text",
    "id": "V1MgMP8RtMQG"
   },
   "source": [
    "Try with different values of $\\alpha$"
   ]
  },
  {
   "cell_type": "markdown",
   "metadata": {
    "colab_type": "text",
    "id": "e-XevlM5tMQH"
   },
   "source": [
    "Notice that $\\alpha = [1,1,1]$ corresponds to a uniform distribution. Values of $\\alpha < 1$ lead to sparse distributions (can be used as sparsity-inducing priors!). The higher the value of $\\alpha$, the more concentrated is the distribution."
   ]
  },
  {
   "cell_type": "markdown",
   "metadata": {
    "colab_type": "text",
    "id": "V3BduTcBtMQH"
   },
   "source": [
    "----------------"
   ]
  },
  {
   "cell_type": "markdown",
   "metadata": {
    "colab_type": "text",
    "id": "R_XILq03tMQI"
   },
   "source": [
    "## Part 2: LDA Ancestral Sampling"
   ]
  },
  {
   "cell_type": "code",
   "execution_count": 41,
   "metadata": {
    "colab": {},
    "colab_type": "code",
    "id": "aKg0OaRIkq6s",
    "outputId": "d27cd983-ef0f-4149-fcf2-128896dd1715"
   },
   "outputs": [
    {
     "name": "stderr",
     "output_type": "stream",
     "text": [
      "/opt/homebrew/Caskroom/miniconda/base/envs/mbml/lib/python3.9/site-packages/IPython/core/display.py:419: UserWarning: Consider using IPython.display.IFrame instead\n",
      "  warnings.warn(\"Consider using IPython.display.IFrame instead\")\n"
     ]
    },
    {
     "data": {
      "text/html": [
       "<iframe width=\"560\" height=\"315\" src=\"https://www.youtube.com/embed/C-8hgB-JQl4\" frameborder=\"0\" allow=\"accelerometer; autoplay; encrypted-media; gyroscope; picture-in-picture\" allowfullscreen></iframe>"
      ],
      "text/plain": [
       "<IPython.core.display.HTML object>"
      ]
     },
     "execution_count": 41,
     "metadata": {},
     "output_type": "execute_result"
    }
   ],
   "source": [
    "HTML('<iframe width=\"560\" height=\"315\" src=\"https://www.youtube.com/embed/C-8hgB-JQl4\" frameborder=\"0\" allow=\"accelerometer; autoplay; encrypted-media; gyroscope; picture-in-picture\" allowfullscreen></iframe>')"
   ]
  },
  {
   "cell_type": "markdown",
   "metadata": {
    "colab_type": "text",
    "id": "2-2tBrxdtMQJ"
   },
   "source": [
    "We define our own dictionary of 30 words. There are 3 different topics that we embedded in the dictionary, can you see what they are?"
   ]
  },
  {
   "cell_type": "code",
   "execution_count": 42,
   "metadata": {
    "colab": {},
    "colab_type": "code",
    "id": "cCs9PhNGtMQK"
   },
   "outputs": [],
   "source": [
    "K = 3\n",
    "dictionary =[\"Copenhagen\",\n",
    "             \"Madrid\",\n",
    "             \"Sydney\",\n",
    "             \"Kabul\",\n",
    "             \"Vienna\",\n",
    "             \"Brussels\",\n",
    "             \"Beijing\",\n",
    "             \"Kathmandu\",\n",
    "             \"Singapore\",\n",
    "             \"Oslo\",\n",
    "             \"blue\",\n",
    "             \"green\",\n",
    "             \"beige\",\n",
    "             \"cyan\",\n",
    "             \"black\",\n",
    "             \"tan\",\n",
    "             \"brown\",\n",
    "             \"orange\",\n",
    "             \"white\",\n",
    "             \"red\",\n",
    "             \"data\",\n",
    "             \"model\",\n",
    "             \"inference\",\n",
    "             \"learning\",\n",
    "             \"observation\",\n",
    "             \"dimension\",\n",
    "             \"training\",\n",
    "             \"neuralnetwork\",\n",
    "             \"analytics\",\n",
    "             \"sampling\"\n",
    "             ]\n",
    "C = len(dictionary)"
   ]
  },
  {
   "cell_type": "markdown",
   "metadata": {
    "colab_type": "text",
    "id": "1AteOLf-tMQM"
   },
   "source": [
    "To make it smoother and more fun, we'll start by giving you the topics, $\\phi$ and the proportions $\\theta$ directly. I.e., you don't need to generate (yet) those from Dirichlet distribution.\n",
    "\n",
    "Lets start by defining the 3 topics. We do this by assigning a probability for each word under of the 3 topics ($\\phi$)."
   ]
  },
  {
   "cell_type": "code",
   "execution_count": 43,
   "metadata": {
    "colab": {},
    "colab_type": "code",
    "id": "2kjd8bZttMQN"
   },
   "outputs": [],
   "source": [
    "## Define word vectors (for each topic) and normalize:\n",
    "phi = np.zeros( (K, C) );\n",
    "phi[0] = [0.9, 0.9, 0.9, 0.9, 0.9, 0.9, 0.9, 0.9, 0.9, 0.9,\n",
    "          0.01, 0.01, 0.01, 0.01, 0.01, 0.01, 0.01, 0.01, 0.01, 0.01,\n",
    "          0.01, 0.01, 0.01, 0.01, 0.01, 0.01, 0.01, 0.01, 0.01, 0.01]\n",
    "phi[0] *= 1/np.sum(phi[0])\n",
    "phi[1] = [0.01, 0.01, 0.01, 0.01, 0.01, 0.01, 0.01, 0.01, 0.01, 0.01,\n",
    "          0.9, 0.9, 0.9, 0.9, 0.9, 0.9, 0.9, 0.9, 0.9, 0.9,\n",
    "          0.01, 0.01, 0.01, 0.01, 0.01, 0.01, 0.01, 0.01, 0.01, 0.01]\n",
    "phi[1] *= 1/np.sum(phi[1])\n",
    "phi[2] = [0.01, 0.01, 0.01, 0.01, 0.01, 0.01, 0.01, 0.01, 0.01, 0.01,\n",
    "          0.01, 0.01, 0.01, 0.01, 0.01, 0.01, 0.01, 0.01, 0.01, 0.01,\n",
    "          0.9, 0.9, 0.9, 0.9, 0.9, 0.9, 0.9, 0.9, 0.9, 0.9]\n",
    "phi[2] *= 1/np.sum(phi[2])"
   ]
  },
  {
   "cell_type": "markdown",
   "metadata": {
    "colab_type": "text",
    "id": "tkfjtCqotMQP"
   },
   "source": [
    "Notice that for topic 1, we assigned high probability to the words: Copenhagen, Madrid, Sydney, Kabul, Vienna, Brussels, Beijing, Kathmandu, Singapore, Oslo. \n",
    "\n",
    "Similarly, for topic 2, we assigned high probability to the words: blue, green, ...\n",
    "\n",
    "Finaly, for topic 3, we assigned high probability to the words: model, inference, ...\n",
    "\n",
    "Now that we have defined the probability of each word under each topic, we can follow the generative process to sample some documents. As previously mentioned, we will pre-define the distribution over topics for each document ($\\theta$):"
   ]
  },
  {
   "cell_type": "code",
   "execution_count": 44,
   "metadata": {
    "colab": {},
    "colab_type": "code",
    "id": "nZT2W-4NtMQQ"
   },
   "outputs": [],
   "source": [
    "I = 3 ## Number of documents.\n",
    "\n",
    "## Define topic proportion vectors (one for for each document):\n",
    "theta = np.zeros( (I, K) );\n",
    "theta[0] = [0.6, 0.2, 0.2]\n",
    "theta[1] = [1/3, 1/3, 1/3] ## This one will be an equal mix of all topics\n",
    "theta[2] = [  0,   0,  1] ## This will for example only contain topic 3."
   ]
  },
  {
   "cell_type": "markdown",
   "metadata": {
    "colab_type": "text",
    "id": "lAWNtsn7tMQS"
   },
   "source": [
    "Notice that the first document has higher probability of containing words from topic 1 than topics 2 and 3. Document 2 is uniform - all topics have equal probability. Document 3 covers exclusevely topic 3.\n",
    "\n",
    "Let us now generate the 3 documents following the generative process:"
   ]
  },
  {
   "cell_type": "markdown",
   "metadata": {
    "colab_type": "text",
    "id": "-Bp7PwHXtMQT"
   },
   "source": [
    "So, you assume now that we have $\\boldsymbol{\\theta}_i$ for all documents and $\\boldsymbol{\\phi}_k$ for all topics. Ancestral sampling is simply:\n",
    "\n",
    "\n",
    "For each document $i$, and for each word $j=1...w_i$, do:\n",
    "\\begin{align}\n",
    "z_{i, j} &\\sim Cat(\\boldsymbol{\\theta}_i) \\\\\n",
    "w_{i, j} &\\sim Cat(\\boldsymbol{\\phi}_{z_{i,j}})\n",
    "\\end{align}\n",
    "\n"
   ]
  },
  {
   "cell_type": "markdown",
   "metadata": {
    "colab_type": "text",
    "id": "GhDeBaV-tMQU"
   },
   "source": [
    "Can you try code it down yourself?"
   ]
  },
  {
   "cell_type": "code",
   "execution_count": 45,
   "metadata": {
    "colab": {},
    "colab_type": "code",
    "id": "51S3pRistMQV"
   },
   "outputs": [],
   "source": [
    "##Just to make things practical, we created this function for you\n",
    "## just read it or, try it, to see what it does...\n",
    "def categorical_sample(p):\n",
    "    return list(np.random.multinomial(1, p)).index(1)"
   ]
  },
  {
   "cell_type": "code",
   "execution_count": 46,
   "metadata": {
    "colab": {},
    "colab_type": "code",
    "id": "4GSTTn28tMQX"
   },
   "outputs": [],
   "source": [
    "## function that receives document sizes J, theta (topic proportions) and phi (topics), \n",
    "## returns z (word-topic assignments ) and w (words)\n",
    "def ancestral_sampling(J, theta, phi):\n",
    "    ## Initialise\n",
    "    z = np.zeros( (I, np.max(J)), dtype=int )  #NOTICE that z and w are vectors of integers!\n",
    "    w = np.zeros( (I, np.max(J)), dtype=int )  \n",
    "\n",
    "    for i in range(I):\n",
    "        for j in range(J[i]):\n",
    "            z[i,j] = categorical_sample(theta[i])\n",
    "            w[i,j] = categorical_sample(phi[z[i,j]])\n",
    "    return z, w"
   ]
  },
  {
   "cell_type": "code",
   "execution_count": 47,
   "metadata": {
    "colab": {
     "base_uri": "https://localhost:8080/",
     "height": 799
    },
    "colab_type": "code",
    "id": "VtahF-iktMQZ",
    "outputId": "0e963e85-5069-4f19-b143-eb4c8003b92d"
   },
   "outputs": [
    {
     "name": "stdout",
     "output_type": "stream",
     "text": [
      "w: [[17  5  4  4  2 25  4 26  2  4 26 21]\n",
      " [13 14 16 25 21  3 19  5  1  0  0  0]\n",
      " [28 28 28 20 23 20  0 28 28 23  0  0]]\n",
      "\n",
      "\n",
      "Document:  0\n",
      "Theta:  [0.6 0.2 0.2]\n",
      "Word 0: Topic assignment: 2->   orange  \n",
      "Word 1: Topic assignment: 1->   Brussels  \n",
      "Word 2: Topic assignment: 1->   Vienna  \n",
      "Word 3: Topic assignment: 1->   Vienna  \n",
      "Word 4: Topic assignment: 1->   Sydney  \n",
      "Word 5: Topic assignment: 3->   dimension  \n",
      "Word 6: Topic assignment: 1->   Vienna  \n",
      "Word 7: Topic assignment: 3->   training  \n",
      "Word 8: Topic assignment: 1->   Sydney  \n",
      "Word 9: Topic assignment: 1->   Vienna  \n",
      "Word 10: Topic assignment: 3->   training  \n",
      "Word 11: Topic assignment: 3->   model  \n",
      "\n",
      "\n",
      "Document:  1\n",
      "Theta:  [0.33333333 0.33333333 0.33333333]\n",
      "Word 0: Topic assignment: 2->   cyan  \n",
      "Word 1: Topic assignment: 2->   black  \n",
      "Word 2: Topic assignment: 2->   brown  \n",
      "Word 3: Topic assignment: 3->   dimension  \n",
      "Word 4: Topic assignment: 3->   model  \n",
      "Word 5: Topic assignment: 1->   Kabul  \n",
      "Word 6: Topic assignment: 2->   red  \n",
      "Word 7: Topic assignment: 1->   Brussels  \n",
      "Word 8: Topic assignment: 1->   Madrid  \n",
      "\n",
      "\n",
      "Document:  2\n",
      "Theta:  [0. 0. 1.]\n",
      "Word 0: Topic assignment: 3->   analytics  \n",
      "Word 1: Topic assignment: 3->   analytics  \n",
      "Word 2: Topic assignment: 3->   analytics  \n",
      "Word 3: Topic assignment: 3->   data  \n",
      "Word 4: Topic assignment: 3->   learning  \n",
      "Word 5: Topic assignment: 3->   data  \n",
      "Word 6: Topic assignment: 3->   Copenhagen  \n",
      "Word 7: Topic assignment: 3->   analytics  \n",
      "Word 8: Topic assignment: 3->   analytics  \n",
      "Word 9: Topic assignment: 3->   learning  \n"
     ]
    }
   ],
   "source": [
    "J = [12, 9, 10] ## Vector of size I denoting how many words are in each document\n",
    "z, w = ancestral_sampling(J, theta, phi)\n",
    "print(\"w:\", w)\n",
    "for i in range(I):\n",
    "    print(\"\\n\\nDocument: \", i)\n",
    "    print(\"Theta: \", theta[i])\n",
    "    for j in range(J[i]):\n",
    "        print(\"Word %d: Topic assignment: %d->   %s  \" % (j,  z[i, j]+1, dictionary[w[i, j]]))"
   ]
  },
  {
   "cell_type": "markdown",
   "metadata": {
    "colab_type": "text",
    "id": "Jd4kdRTftMQc"
   },
   "source": [
    "Don't forget to take a look at the generated documents? Do they make sense, given the values for $\\phi$ and $\\theta$ given above?\n"
   ]
  },
  {
   "cell_type": "markdown",
   "metadata": {
    "colab_type": "text",
    "id": "H4vBO1wDtMQd"
   },
   "source": [
    "We bet you guessed what we want you to do next: having generated yourself the data, can you make an LDA model in Pyro that recovers the original parameters $\\phi$ and $\\theta$?\n",
    "\n",
    "A dataset with only 3 documents is too little of course. So, let's generate 100 documents intead, by using the dirichlet distribution. In other words, we will generate:\n",
    "- vectors $\\theta_1 \\dots \\theta_I$\n",
    "- a new vector $J$ that contains their size (10)\n"
   ]
  },
  {
   "cell_type": "code",
   "execution_count": 48,
   "metadata": {
    "colab": {},
    "colab_type": "code",
    "id": "q6cDzjJ5tMQd"
   },
   "outputs": [],
   "source": [
    "I=100\n",
    "theta = np.zeros((I, K));\n",
    "alpha = 0.5*np.ones(K) ## Size K dirichlet prior\n",
    "J=[]\n",
    "\n",
    "for i in range(I):\n",
    "    theta[i] = np.random.dirichlet(alpha);\n",
    "    J.append(10)\n",
    "_, W = ancestral_sampling(J, theta, phi)"
   ]
  },
  {
   "cell_type": "markdown",
   "metadata": {
    "colab_type": "text",
    "id": "DwMY0L_NtMQg"
   },
   "source": [
    "Please reuse your code to generate the dataset W. Please reuse $\\phi$ as before"
   ]
  },
  {
   "cell_type": "markdown",
   "metadata": {
    "colab_type": "text",
    "id": "a8wSPNmUtMQh"
   },
   "source": [
    "## Part 3 - Implement your own LDA model in Pyro"
   ]
  },
  {
   "cell_type": "code",
   "execution_count": 49,
   "metadata": {
    "colab": {},
    "colab_type": "code",
    "id": "9YwqrfkRkq7A",
    "outputId": "1a19270c-b7da-4962-ffe3-b3d0285494a5"
   },
   "outputs": [
    {
     "data": {
      "text/html": [
       "<iframe width=\"560\" height=\"315\" src=\"https://www.youtube.com/embed/wbRkLBgEfQg\" frameborder=\"0\" allow=\"accelerometer; autoplay; encrypted-media; gyroscope; picture-in-picture\" allowfullscreen></iframe>"
      ],
      "text/plain": [
       "<IPython.core.display.HTML object>"
      ]
     },
     "execution_count": 49,
     "metadata": {},
     "output_type": "execute_result"
    }
   ],
   "source": [
    "HTML('<iframe width=\"560\" height=\"315\" src=\"https://www.youtube.com/embed/wbRkLBgEfQg\" frameborder=\"0\" allow=\"accelerometer; autoplay; encrypted-media; gyroscope; picture-in-picture\" allowfullscreen></iframe>')"
   ]
  },
  {
   "cell_type": "markdown",
   "metadata": {
    "colab_type": "text",
    "id": "_hXAqX-_j8_w"
   },
   "source": [
    "Let's try to implement  the model in Pyro. In order to implement the model we will need  the ```Dirichlet(alpha)``` and ```Categorical(pi)```  distributions.  We also need to marginalize the \"word_topic\" distribution as we did in the mixture model notebooks using ```infer={\"enumerate\": \"parallel\"}``` inside the distribution."
   ]
  },
  {
   "cell_type": "markdown",
   "metadata": {
    "colab_type": "text",
    "id": "skhrztWZlV-d"
   },
   "source": [
    "For a short recap, the generative process is the following:\n",
    "\n",
    "\\begin{align}\n",
    "\\phi_{k} & \\sim Dirichlet(\\alpha) \\quad \\textrm{Distribution of words in topic} \\\\\n",
    "\\theta_{i} & \\sim Dirichlet(\\beta) \\quad \\textrm{Distribution of topics in document} \\\\\n",
    "& z_{i,j} \\sim Categorical(\\theta_{i}) \\quad \\textrm{A topic assignment to word $j$ in document $i$}\\\\\n",
    "& w_{i,j}  \\sim Categorical(\\phi_{z_{i,j}}) \\quad \\textrm{A draw of word $j$ in document $i$}  \\\\\n",
    "\\end{align}"
   ]
  },
  {
   "cell_type": "markdown",
   "metadata": {
    "colab_type": "text",
    "id": "l4P8D-EZFQ9W"
   },
   "source": [
    "__NOTE! make sure to use the names we propose in the commented text inside the model. This is important for the inference part.__"
   ]
  },
  {
   "cell_type": "code",
   "execution_count": 50,
   "metadata": {
    "colab": {},
    "colab_type": "code",
    "id": "AM2P5mcftMQl"
   },
   "outputs": [],
   "source": [
    "# This is a fully generative model of a batch of documents.\n",
    "# data is a [num_words_per_doc, num_documents] shaped array of word ids\n",
    "# (specifically it is not a histogram). We assume in this simple example\n",
    "# that all documents have the same number of words.\n",
    "\n",
    "num_words = C\n",
    "num_topics = K\n",
    "num_docs = I\n",
    "num_words_per_doc = 10\n",
    "\n",
    "def model(data=None, batch_size=None):\n",
    "    \"\"\" Make a plate of size num_topics with name \"topics\" and define a variable \"topic_words\".\n",
    "          This represents the phi above. Use the equivalent of a uniform distribution for it  \"\"\"\n",
    "    with pyro.plate(\"topics\", num_topics):\n",
    "        topic_words = pyro.sample(\"topic_words\", dist.Dirichlet(torch.ones(num_words) / num_words))\n",
    "\n",
    "    \"\"\" Make two (nested) plates in here. One over documents and one over words\n",
    "          Documents, called \"documents\":\n",
    "          The plate over the documents should hold a variable \"doc_topics\" representing the theta above.\n",
    "            Use the equivalent of a uniform distribution for it.\n",
    "          \n",
    "          Words, called \"words\":\n",
    "          The plate over words, should have a topic assignment for each word (z_{i,j} above) which \n",
    "            should be enumerated.\n",
    "          The second variable should be the words themselves which should be drawn from the \"topic_words\"\n",
    "            using the assigned z_{i,j} and the observed data.\n",
    "\n",
    "     \"\"\"\n",
    "    with pyro.plate(\"documents\", num_docs) as ind:\n",
    "        if data is not None:\n",
    "            with pyro.util.ignore_jit_warnings():\n",
    "                assert data.shape == (num_words_per_doc, num_docs)\n",
    "            data = data[:, ind]\n",
    "        doc_topics = pyro.sample(\"doc_topics\", dist.Dirichlet(torch.ones(num_topics)/ num_topics))\n",
    "        with pyro.plate(\"words\", num_words_per_doc):\n",
    "            # The word_topics variable is marginalized out during inference,\n",
    "            # achieved by specifying infer={\"enumerate\": \"parallel\"} and using\n",
    "            # TraceEnum_ELBO for inference. Thus we can ignore this variable in\n",
    "            # the guide.\n",
    "            word_topics = pyro.sample(\"word_topics\", dist.Categorical(doc_topics), infer={\"enumerate\": \"parallel\"})\n",
    "            data = pyro.sample(\"doc_words\", dist.Categorical(topic_words[word_topics]), obs=data)\n",
    "\n",
    "    return topic_words, data"
   ]
  },
  {
   "cell_type": "code",
   "execution_count": 51,
   "metadata": {
    "colab": {},
    "colab_type": "code",
    "id": "COQllexBtMQn"
   },
   "outputs": [
    {
     "data": {
      "text/plain": [
       "tensor([[ 7, 19, 23, 19, 28, 19, 28, 14,  2, 14,  4,  4, 19, 14, 19, 19,  2,  7,\n",
       "          2, 14, 19, 23,  2, 14,  2, 19, 28, 14, 14, 23, 28,  4, 28, 28, 16, 14,\n",
       "         28, 19, 19, 19, 19, 28, 28, 14, 28, 23, 19, 14, 19, 28, 19, 19, 23, 28,\n",
       "          2, 19, 14, 28, 19,  2, 14,  4,  2, 19,  2, 19,  2, 19, 14,  4, 28,  4,\n",
       "         13, 19,  4, 23, 14, 20, 14,  4, 23,  4, 19,  4,  2, 28, 19, 19, 28,  2,\n",
       "         23, 28, 28, 14, 19,  4, 28, 28, 23, 23],\n",
       "        [19, 23, 19, 19, 16, 19,  7, 28,  2, 23, 28, 14, 19, 28,  2,  2, 14, 14,\n",
       "          4, 14,  2, 19, 19,  7, 23,  4, 14, 16,  2, 19, 28,  2, 28,  4,  2,  2,\n",
       "          4, 16,  4, 14, 23,  7, 14,  2, 28, 19,  2, 14, 19,  7, 23, 28, 19, 19,\n",
       "         14, 19, 14,  4, 19, 28,  4, 28, 14, 19, 14, 19,  2, 23,  2, 28, 16,  4,\n",
       "          2, 19,  4, 19, 14,  2, 14,  4, 19,  4, 16,  4, 14,  4, 14, 20, 14, 28,\n",
       "         19, 28,  4,  4, 19,  4,  4,  2, 19, 19],\n",
       "        [19, 14, 19, 19, 14, 19,  4,  2,  4, 14, 28, 28, 19,  2,  4, 19,  2,  7,\n",
       "          2,  2,  4, 23, 19, 14, 14,  4,  2, 14, 14, 19, 28, 14,  4,  4, 16, 14,\n",
       "         14, 19, 19, 23, 19, 28,  4, 19, 14, 16, 19, 14, 19,  4, 19, 28, 19, 19,\n",
       "          2, 19, 28,  4, 19, 14,  2,  4,  2,  7,  2, 14,  2, 19, 10,  4, 23, 28,\n",
       "         14, 23,  4, 23, 28, 20,  2,  4, 16,  4, 19,  4,  4,  4,  4, 19, 16, 28,\n",
       "         19,  4,  7,  7, 19, 28,  7, 14,  4, 19],\n",
       "        [19, 14,  4,  4, 14, 19, 23,  2, 13,  2, 28,  2, 19, 28, 19, 19, 19,  7,\n",
       "         14, 19,  2, 19,  2,  4,  4,  4,  2, 20,  4, 19, 28, 28,  4, 28, 19, 14,\n",
       "         28,  4, 28, 14, 19, 14, 28, 19,  4, 19, 14,  2, 28, 28, 23,  4, 28,  7,\n",
       "         19,  2,  2,  4, 19,  7, 28, 19,  2, 19, 19, 19, 14, 23,  4,  4, 19, 10,\n",
       "         19,  8, 16, 19, 14, 14,  2, 28, 28,  4, 16,  7,  7, 28,  7,  2, 19,  7,\n",
       "         23, 28,  4, 28, 23,  4, 28,  2,  7, 16],\n",
       "        [14, 19, 19, 19,  2, 16, 28, 19,  2, 14, 28,  2, 28, 14, 19, 19,  2, 28,\n",
       "          2, 19, 19, 28, 14, 28, 19, 28, 14, 14,  2,  2, 28, 28,  4, 19, 14,  2,\n",
       "          2, 19, 28,  2, 16,  4,  7, 23,  7,  4, 16, 14, 16,  4, 19,  4, 16, 19,\n",
       "          4, 19,  4, 28, 23, 28,  4, 28,  2,  4, 19, 19, 14, 19, 28, 28, 23, 28,\n",
       "          2, 19,  4, 19,  7, 19,  2, 19,  4,  7, 16,  4, 14,  4, 19, 19, 19,  4,\n",
       "         19,  4,  4, 14, 23, 28,  4,  2, 21, 16],\n",
       "        [19, 14, 16,  2,  2, 19, 28, 19, 14, 28, 28, 19, 19,  2,  4, 16, 14,  4,\n",
       "         28, 19, 14, 28, 19, 28, 14,  4,  4, 19, 28,  2,  4, 19, 28,  4, 19, 14,\n",
       "         28,  4,  7,  2, 16, 28, 28, 19, 28, 19, 19, 14, 16,  7, 19, 19, 19, 28,\n",
       "         23, 19, 28,  4, 16, 28,  7, 19,  2, 28, 23, 16, 14, 19, 28, 28, 19, 28,\n",
       "          2, 19,  7, 23,  2, 14, 19,  4,  4, 14, 19,  4, 14,  4,  2, 14,  2, 28,\n",
       "         19, 28, 28,  4, 19,  7,  4,  7,  4, 19],\n",
       "        [19,  2, 19, 19, 19, 19,  7, 14,  2,  4,  4, 14, 19,  2, 19, 19, 14,  2,\n",
       "          2, 14,  7, 19, 19,  7, 20,  7, 14, 19,  4, 19,  4, 19, 28,  4,  2, 14,\n",
       "          4, 19, 28,  2, 19,  4, 28, 20,  4, 19, 14,  2, 19,  7, 23,  2, 23, 19,\n",
       "         23, 19, 19,  4, 16,  4, 28,  4,  2,  7,  2, 19,  2, 19,  2,  4, 23, 19,\n",
       "         14, 19, 28, 19, 14,  2, 18,  4,  4, 28, 19,  4, 28,  4, 28, 19, 16, 28,\n",
       "         19,  4, 28,  7, 19, 28,  4,  2, 28, 19],\n",
       "        [19, 14,  4, 23, 14, 19, 28,  4, 14, 28,  4,  2, 23,  4, 16, 19, 14,  4,\n",
       "         14, 16, 28, 19, 19,  4, 19, 19,  2, 19,  7,  2,  4,  4,  4,  7,  2,  2,\n",
       "         16, 28, 23,  2, 16, 23,  4, 14,  4, 19, 19,  2, 19, 28, 16, 28, 19, 28,\n",
       "          4, 23, 28,  4, 19,  2,  7,  7, 19, 19,  2, 19, 14, 16,  4,  4, 28,  4,\n",
       "         14, 19, 28, 16, 28, 14, 14, 28,  7, 28, 19, 28, 14,  4, 19, 19, 23,  7,\n",
       "         19, 28,  4, 19, 16, 28,  4, 19,  4, 19],\n",
       "        [19, 23, 19, 19, 14, 23, 10,  2,  4, 19, 28, 14, 19, 14,  4, 19,  2, 28,\n",
       "         14,  2, 19, 19, 19, 28, 14,  4, 14, 19, 28, 19,  7, 19, 19, 19,  2, 14,\n",
       "          2, 19, 19,  2, 19,  7, 28, 14, 28, 23, 19, 28, 28, 28, 19, 19, 19, 19,\n",
       "          4, 23,  7,  7, 28,  4, 13, 28, 14, 28, 23, 19,  2, 19, 28, 28, 19, 28,\n",
       "         14, 19, 14, 14,  2,  2, 14, 14,  4, 19, 19,  4,  4,  4, 19, 14, 19, 28,\n",
       "         23, 28, 28, 28, 19, 28,  7,  2, 28, 19],\n",
       "        [14, 19, 23, 23, 19, 19,  4,  7,  7, 19,  4, 14, 23,  2,  4, 23, 13,  4,\n",
       "          2, 19, 28, 19, 14,  4,  2, 19,  2, 14,  7,  2,  4, 14, 19, 28,  2,  2,\n",
       "          4, 19,  7, 14, 23,  4,  2, 19, 14, 19, 19, 14, 16, 10, 19, 19, 19,  4,\n",
       "         16, 19, 14,  2, 19, 14,  2,  4, 14, 28, 14,  2,  2, 19, 28,  4,  4,  4,\n",
       "          2, 19, 28, 23, 19, 14, 14,  2,  4,  4, 14, 28,  2, 28, 19, 14, 19, 20,\n",
       "         19,  4,  4, 28, 23, 28,  4,  2, 28, 19]])"
      ]
     },
     "execution_count": 51,
     "metadata": {},
     "output_type": "execute_result"
    }
   ],
   "source": [
    "# We can generate synthetic data directly by calling the model.\n",
    "true_topic_words, fake_data = model()\n",
    "fake_data"
   ]
  },
  {
   "cell_type": "code",
   "execution_count": 52,
   "metadata": {
    "colab": {
     "base_uri": "https://localhost:8080/",
     "height": 34
    },
    "colab_type": "code",
    "id": "JjY_-FkktMQp",
    "outputId": "e74c1568-bf33-48dc-b569-f848487efb5c"
   },
   "outputs": [
    {
     "data": {
      "text/plain": [
       "torch.Size([10, 100])"
      ]
     },
     "execution_count": 52,
     "metadata": {},
     "output_type": "execute_result"
    }
   ],
   "source": [
    "W_torch = torch.tensor(W.T).long()\n",
    "W_torch.shape"
   ]
  },
  {
   "cell_type": "markdown",
   "metadata": {
    "colab_type": "text",
    "id": "5ngYkQeztMQr"
   },
   "source": [
    "## Manual+Autoguide version"
   ]
  },
  {
   "cell_type": "markdown",
   "metadata": {
    "colab_type": "text",
    "id": "6qdrVyuUGvvD"
   },
   "source": [
    "In Variational Inference (VI) we define a \"guide\", a function similar to a model definition where we declare, for each distribution in the model, an approximating distribution \"easy\" to optimize. In this case, the inference can't be done using the \"autoguide\" as we have done in previous notebooks. The problem is that autoguide is using a multivariate normal distribution to approximate all the distributions in the model. However, some distributions (like a dirichlet) cannot be approximated using a normal. We have to use a \"manual\" guide in here.\n",
    "\n",
    "Don't worry too much about this as we will learn the details on the variational inference lecture."
   ]
  },
  {
   "cell_type": "code",
   "execution_count": 53,
   "metadata": {
    "colab": {
     "base_uri": "https://localhost:8080/",
     "height": 697
    },
    "colab_type": "code",
    "id": "w7gOCIdstMQs",
    "outputId": "3926cda0-d475-4a60-afba-e0377f494f57",
    "scrolled": false
   },
   "outputs": [
    {
     "name": "stdout",
     "output_type": "stream",
     "text": [
      "[0] ELBO: 3775.7\n",
      "[100] ELBO: 3792.7\n",
      "[200] ELBO: 3771.4\n",
      "[300] ELBO: 3766.8\n",
      "[400] ELBO: 3753.2\n",
      "[500] ELBO: 3701.8\n",
      "[600] ELBO: 3740.4\n",
      "[700] ELBO: 3699.1\n",
      "[800] ELBO: 3653.9\n",
      "[900] ELBO: 3475.3\n",
      "[1000] ELBO: 3443.3\n",
      "[1100] ELBO: 3412.1\n",
      "[1200] ELBO: 3253.8\n",
      "[1300] ELBO: 3214.7\n",
      "[1400] ELBO: 3211.7\n",
      "[1500] ELBO: 3027.7\n",
      "[1600] ELBO: 2950.1\n",
      "[1700] ELBO: 3036.3\n",
      "[1800] ELBO: 3077.0\n",
      "[1900] ELBO: 2900.4\n",
      "[2000] ELBO: 2754.1\n",
      "[2100] ELBO: 2713.2\n",
      "[2200] ELBO: 2735.1\n",
      "[2300] ELBO: 2675.0\n",
      "[2400] ELBO: 2673.9\n",
      "[2500] ELBO: 2591.6\n",
      "[2600] ELBO: 2476.2\n",
      "[2700] ELBO: 2472.8\n",
      "[2800] ELBO: 2461.6\n",
      "[2900] ELBO: 2376.7\n",
      "[3000] ELBO: 2192.5\n",
      "[3100] ELBO: 2264.1\n",
      "[3200] ELBO: 2043.0\n",
      "[3300] ELBO: 2009.3\n",
      "[3400] ELBO: 2101.9\n",
      "[3500] ELBO: 2121.6\n",
      "[3600] ELBO: 2001.4\n",
      "[3700] ELBO: 1996.3\n",
      "[3800] ELBO: 1843.6\n",
      "[3900] ELBO: 1953.6\n"
     ]
    }
   ],
   "source": [
    "pyro.clear_param_store()\n",
    "\n",
    "def my_local_guide(data=None, batch_size=None):\n",
    "    topic_words_posterior = pyro.param(\n",
    "            \"topic_words_posterior\",\n",
    "            lambda: torch.ones(num_topics, num_words),\n",
    "            constraint=constraints.positive)\n",
    "    with pyro.plate(\"topics\", num_topics):\n",
    "        pyro.sample(\"topic_words\", dist.Dirichlet(topic_words_posterior))\n",
    "    \n",
    "    doc_topics_posterior = pyro.param(\n",
    "            \"doc_topics_posterior\",\n",
    "            lambda: torch.ones(num_docs, num_topics),\n",
    "            constraint=constraints.simplex)\n",
    "    with pyro.plate(\"documents\", num_docs, batch_size) as ind:\n",
    "        pyro.sample(\"doc_topics\", dist.Delta(doc_topics_posterior[ind], event_dim=1))\n",
    "    \n",
    "guide = AutoGuideList(model)\n",
    "guide.add(AutoDiagonalNormal(pyro.poutine.block(model, expose=['doc_topics'])))\n",
    "guide.add(my_local_guide)  # automatically wrapped in an AutoCallable\n",
    "\n",
    "guide = my_local_guide\n",
    "\n",
    "elbo = TraceEnum_ELBO(max_plate_nesting=3)\n",
    "\n",
    "optim = ClippedAdam({'lr': 0.005})\n",
    "svi = SVI(model, guide, optim, elbo)\n",
    "\n",
    "# Define the number of optimization steps\n",
    "n_steps = 4000\n",
    "\n",
    "# do gradient steps\n",
    "for step in range(n_steps):\n",
    "    elbo = svi.step(W_torch, batch_size=32)\n",
    "    if step % 100 == 0:\n",
    "        #print('.', end='')\n",
    "        print(\"[%d] ELBO: %.1f\" % (step, elbo))"
   ]
  },
  {
   "cell_type": "markdown",
   "metadata": {
    "colab_type": "text",
    "id": "TOJ_nWwBIFbq"
   },
   "source": [
    "Compare estimated $\\hat{\\phi}$ with true values of $\\phi$ used to generate the data:"
   ]
  },
  {
   "cell_type": "code",
   "execution_count": 54,
   "metadata": {
    "colab": {
     "base_uri": "https://localhost:8080/",
     "height": 34
    },
    "colab_type": "code",
    "id": "Oej01OZ8tMRC",
    "outputId": "75b6af07-f90d-4741-902b-5a1a2a992b5c"
   },
   "outputs": [
    {
     "data": {
      "text/plain": [
       "torch.Size([800, 1, 3, 30])"
      ]
     },
     "execution_count": 54,
     "metadata": {},
     "output_type": "execute_result"
    }
   ],
   "source": [
    "from pyro.infer import Predictive\n",
    "\n",
    "predictive = Predictive(model, guide=guide, num_samples=800,\n",
    "                        return_sites=(\"topic_words\",))\n",
    "samples = predictive(W_torch)\n",
    "samples[\"topic_words\"].shape"
   ]
  },
  {
   "cell_type": "code",
   "execution_count": 55,
   "metadata": {
    "colab": {
     "base_uri": "https://localhost:8080/",
     "height": 51
    },
    "colab_type": "code",
    "id": "uI1rTzq4tMRF",
    "outputId": "5d91df76-a9f1-404a-eabe-e83dd34bbf0d"
   },
   "outputs": [
    {
     "data": {
      "text/plain": [
       "tensor([2, 2, 2, 2, 2, 2, 2, 2, 2, 2, 0, 0, 0, 0, 0, 0, 2, 0, 0, 0, 1, 1, 1, 1,\n",
       "        1, 1, 1, 1, 1, 0])"
      ]
     },
     "execution_count": 55,
     "metadata": {},
     "output_type": "execute_result"
    }
   ],
   "source": [
    "# Compute the argmax of the mean of all samples of topic for each word\n",
    "#   this is the most likely topic for each word in our dictionary\n",
    "samples[\"topic_words\"].mean(axis=0)[0].argmax(axis=0)"
   ]
  },
  {
   "cell_type": "code",
   "execution_count": 56,
   "metadata": {
    "colab": {
     "base_uri": "https://localhost:8080/",
     "height": 51
    },
    "colab_type": "code",
    "id": "-4B2FZCMtMRH",
    "outputId": "94a9fee8-fbbc-4490-ed11-6a0a6662d2c6"
   },
   "outputs": [
    {
     "data": {
      "text/plain": [
       "array([0, 0, 0, 0, 0, 0, 0, 0, 0, 0, 1, 1, 1, 1, 1, 1, 1, 1, 1, 1, 2, 2,\n",
       "       2, 2, 2, 2, 2, 2, 2, 2])"
      ]
     },
     "execution_count": 56,
     "metadata": {},
     "output_type": "execute_result"
    }
   ],
   "source": [
    "# Now compute the same for the real values\n",
    "np.argmax(phi, axis=0)"
   ]
  },
  {
   "cell_type": "markdown",
   "metadata": {
    "colab_type": "text",
    "id": "NEuXtZMftMSU"
   },
   "source": [
    "Notice anything interesting? Do the results match exactly? Remember that if we call \"topic 1\" -> \"topic 2\", and we call \"topic 2\" -> \"topic 1\", the resulting model is still the same! We just \"renamed\" the topics. This is another case of the problem of model identifiability...\n",
    "\n"
   ]
  },
  {
   "cell_type": "markdown",
   "metadata": {
    "colab_type": "text",
    "id": "yNXjjNSKIkIG"
   },
   "source": [
    "Now let's compare the estimated $\\hat{\\theta}_{i}$ with true values of $\\theta_{i}$ used to generate the data:"
   ]
  },
  {
   "cell_type": "code",
   "execution_count": 57,
   "metadata": {
    "colab": {},
    "colab_type": "code",
    "id": "ABv1cUDFtMQv"
   },
   "outputs": [],
   "source": [
    "from pyro.infer import Predictive\n",
    "\n",
    "predictive = Predictive(model, guide=guide, num_samples=800,\n",
    "                        return_sites=(\"doc_topics\",))\n",
    "predictive = Predictive(model, guide=guide, num_samples=800)\n",
    "samples = predictive(W_torch)"
   ]
  },
  {
   "cell_type": "code",
   "execution_count": 58,
   "metadata": {
    "colab": {
     "base_uri": "https://localhost:8080/",
     "height": 34
    },
    "colab_type": "code",
    "id": "Yq9TLZaEAeAX",
    "outputId": "59f7d942-a7a1-49f1-ee71-d5408c8861bb"
   },
   "outputs": [
    {
     "data": {
      "text/plain": [
       "dict_keys(['topic_words', 'doc_topics', 'word_topics', 'doc_words'])"
      ]
     },
     "execution_count": 58,
     "metadata": {},
     "output_type": "execute_result"
    }
   ],
   "source": [
    "samples.keys()"
   ]
  },
  {
   "cell_type": "code",
   "execution_count": 59,
   "metadata": {
    "colab": {
     "base_uri": "https://localhost:8080/",
     "height": 34
    },
    "colab_type": "code",
    "id": "z_vrkziltMQx",
    "outputId": "e0f0baf2-65e3-44b3-e20c-8e3447137db1"
   },
   "outputs": [
    {
     "data": {
      "text/plain": [
       "torch.Size([1, 100, 3])"
      ]
     },
     "execution_count": 59,
     "metadata": {},
     "output_type": "execute_result"
    }
   ],
   "source": [
    "doc_topics_posterior = samples[\"doc_topics\"].mean(axis=0)\n",
    "doc_topics_posterior.shape"
   ]
  },
  {
   "cell_type": "code",
   "execution_count": 60,
   "metadata": {
    "colab": {
     "base_uri": "https://localhost:8080/",
     "height": 102
    },
    "colab_type": "code",
    "id": "BUdP6q8mtMQ0",
    "outputId": "515b63b6-01cd-4433-af50-78c2e0e59b52"
   },
   "outputs": [
    {
     "data": {
      "text/plain": [
       "tensor([2, 0, 1, 1, 2, 1, 1, 1, 2, 1, 2, 0, 2, 2, 1, 1, 1, 0, 1, 1, 2, 1, 0, 2,\n",
       "        0, 2, 0, 1, 1, 2, 2, 2, 1, 1, 2, 2, 2, 2, 1, 1, 1, 1, 1, 0, 2, 0, 2, 2,\n",
       "        2, 2, 2, 2, 1, 0, 2, 2, 1, 1, 2, 2, 1, 0, 2, 1, 0, 1, 1, 0, 2, 2, 1, 2,\n",
       "        0, 1, 2, 2, 0, 0, 2, 2, 1, 1, 1, 2, 2, 0, 2, 2, 2, 2, 2, 0, 1, 0, 2, 2,\n",
       "        2, 2, 2, 2])"
      ]
     },
     "execution_count": 60,
     "metadata": {},
     "output_type": "execute_result"
    }
   ],
   "source": [
    "# Compute the argmax of the mean of all samples of topic for each document\n",
    "#   this is the most likely topic for each document in our data\n",
    "preds = torch.argmax(doc_topics_posterior, axis=2)[0]\n",
    "preds"
   ]
  },
  {
   "cell_type": "markdown",
   "metadata": {},
   "source": []
  },
  {
   "cell_type": "code",
   "execution_count": 61,
   "metadata": {
    "colab": {
     "base_uri": "https://localhost:8080/",
     "height": 102
    },
    "colab_type": "code",
    "id": "36WIRN-NtMQ3",
    "outputId": "5271b4ff-7a83-4610-b860-f13dcf457afe"
   },
   "outputs": [
    {
     "data": {
      "text/plain": [
       "array([0, 2, 2, 2, 0, 2, 2, 2, 1, 2, 1, 1, 0, 0, 2, 2, 2, 1, 2, 2, 0, 2,\n",
       "       1, 0, 1, 1, 1, 2, 2, 2, 1, 0, 2, 2, 0, 0, 0, 0, 2, 2, 2, 2, 2, 1,\n",
       "       0, 2, 0, 0, 0, 0, 1, 0, 2, 1, 1, 0, 2, 2, 0, 0, 2, 2, 0, 2, 2, 2,\n",
       "       2, 1, 2, 0, 2, 1, 2, 2, 0, 0, 1, 2, 1, 0, 2, 2, 2, 1, 0, 1, 0, 0,\n",
       "       0, 0, 1, 1, 2, 1, 2, 0, 0, 1, 0, 0])"
      ]
     },
     "execution_count": 61,
     "metadata": {},
     "output_type": "execute_result"
    }
   ],
   "source": [
    "# Compute the same quantity for the real values\n",
    "acts=np.argmax(theta, axis=1)\n",
    "acts"
   ]
  },
  {
   "cell_type": "code",
   "execution_count": 62,
   "metadata": {},
   "outputs": [
    {
     "data": {
      "text/plain": [
       "0.0"
      ]
     },
     "execution_count": 62,
     "metadata": {},
     "output_type": "execute_result"
    }
   ],
   "source": [
    "np.sum(preds == acts)/len(preds)"
   ]
  }
 ],
 "metadata": {
  "colab": {
   "collapsed_sections": [
    "mWQc-vc3tMPy"
   ],
   "name": "08 - LDA - Pyro - solutions.ipynb",
   "provenance": []
  },
  "kernelspec": {
   "display_name": "Python 3",
   "language": "python",
   "name": "python3"
  },
  "language_info": {
   "codemirror_mode": {
    "name": "ipython",
    "version": 3
   },
   "file_extension": ".py",
   "mimetype": "text/x-python",
   "name": "python",
   "nbconvert_exporter": "python",
   "pygments_lexer": "ipython3",
   "version": "3.9.7"
  }
 },
 "nbformat": 4,
 "nbformat_minor": 1
}
